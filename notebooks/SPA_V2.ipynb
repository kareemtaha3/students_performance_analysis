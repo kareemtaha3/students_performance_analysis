{
 "cells": [
  {
   "cell_type": "code",
   "execution_count": null,
   "id": "5e6c0e28",
   "metadata": {},
   "outputs": [],
   "source": []
  }
 ],
 "metadata": {
  "language_info": {
   "name": "python"
  }
 },
 "nbformat": 4,
 "nbformat_minor": 5
}
